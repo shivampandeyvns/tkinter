{
 "cells": [
  {
   "cell_type": "code",
   "execution_count": 1,
   "metadata": {},
   "outputs": [],
   "source": [
    "from tkinter import *"
   ]
  },
  {
   "cell_type": "code",
   "execution_count": 2,
   "metadata": {},
   "outputs": [],
   "source": [
    "root=Tk()\n",
    "var=IntVar()\n",
    "c=Checkbutton(root, text=\"Check this\",variable=var)\n",
    "c.pack()\n",
    "def show():\n",
    "    myLabel=Label(root,text=var.get()).pack()\n",
    "myButton=Button(root,text='Show Selection',command=show).pack()\n",
    "root.mainloop()"
   ]
  },
  {
   "cell_type": "code",
   "execution_count": 4,
   "metadata": {},
   "outputs": [],
   "source": [
    "#we define the on and off value to be used\n",
    "root=Tk()\n",
    "var=StringVar()\n",
    "c=Checkbutton(root, text=\"would you like super size pizza?\",variable=var, onvalue=\"Super Size\",offvalue=\"Regular size\")\n",
    "#by default it will be deselected\n",
    "c.deselect()\n",
    "c.pack()\n",
    "def show():\n",
    "    myLabel=Label(root,text=var.get()).pack()\n",
    "myButton=Button(root,text='Show Selection',command=show).pack()\n",
    "root.mainloop()"
   ]
  },
  {
   "cell_type": "code",
   "execution_count": null,
   "metadata": {},
   "outputs": [],
   "source": []
  }
 ],
 "metadata": {
  "kernelspec": {
   "display_name": "Python 3",
   "language": "python",
   "name": "python3"
  },
  "language_info": {
   "codemirror_mode": {
    "name": "ipython",
    "version": 3
   },
   "file_extension": ".py",
   "mimetype": "text/x-python",
   "name": "python",
   "nbconvert_exporter": "python",
   "pygments_lexer": "ipython3",
   "version": "3.8.3"
  }
 },
 "nbformat": 4,
 "nbformat_minor": 4
}
