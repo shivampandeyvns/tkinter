{
 "cells": [
  {
   "cell_type": "code",
   "execution_count": 1,
   "metadata": {},
   "outputs": [],
   "source": [
    "from tkinter import *"
   ]
  },
  {
   "cell_type": "code",
   "execution_count": 3,
   "metadata": {},
   "outputs": [],
   "source": [
    "from PIL import ImageTk,Image"
   ]
  },
  {
   "cell_type": "code",
   "execution_count": 12,
   "metadata": {},
   "outputs": [],
   "source": [
    "root=Tk()\n",
    "my_img1=ImageTk.PhotoImage(Image.open('maxresdefault.jpg'))\n",
    "my_img2=ImageTk.PhotoImage(Image.open('avatar_face_man_boy_male_profile_smiley_happy_people_icon_181658.ico'))\n",
    "my_img3=ImageTk.PhotoImage(Image.open('icons8-itachi-uchiha-48.png'))\n",
    "my_img4=ImageTk.PhotoImage(Image.open('avatar_face_man_boy_male_profile_smiley_happy_people_icon_181658.ico'))\n",
    "my_img5=ImageTk.PhotoImage(Image.open('download.jfif'))\n",
    "image_list=[my_img1,my_img2,my_img3,my_img4,my_img5]\n",
    "status_label=Label(root,text='Image 1 of '+ str(len(image_list)),bd=1, relief=SUNKEN, anchor=E)\n",
    "def forward(image_number):\n",
    "    global my_label\n",
    "    global button_back\n",
    "    global button_forward\n",
    "    \n",
    "    my_label.grid_forget()\n",
    "    my_label=Label(image=image_list[image_number-1])\n",
    "    button_back=Button(root,text='<<',command=lambda: back(image_number-1))\n",
    "    button_exit=Button(root,text='EXIT PROGRAM',command=root.quit)\n",
    "    button_forward=Button(root,text=\">>\",command=lambda: forward(image_number+1))\n",
    "    if image_number==5:\n",
    "        button_forward=Button(root,text='>>',state=DISABLED)\n",
    "    my_label.grid(row=0,column=0,columnspan=3)\n",
    "    button_back.grid(row=1,column=0)\n",
    "    button_exit.grid(row=1,column=1)\n",
    "    button_forward.grid(row=1,column=2)\n",
    "    status_label=Label(root,text='Image ' + str(image_number)+ ' of '+ str(len(image_list)),bd=1, relief=SUNKEN, anchor=E)\n",
    "    status_label.grid(row=2,column=0,columnspan=3,sticky=W+E)\n",
    "def back(image_number):\n",
    "    global my_label\n",
    "    global button_back\n",
    "    global button_forward\n",
    "    \n",
    "    my_label.grid_forget()\n",
    "    my_label=Label(image=image_list[image_number-1])\n",
    "    button_back=Button(root,text='<<',command=lambda: back(image_number-1))\n",
    "    button_forward=Button(root,text=\">>\",command=lambda: forward(image_number+1))\n",
    "    if(image_number==1):\n",
    "        button_back=Button(root,text='<<',state=DISABLED)\n",
    "    my_label.grid(row=0,column=0,columnspan=3)\n",
    "    button_back.grid(row=1,column=0)\n",
    "    button_exit.grid(row=1,column=1)\n",
    "    button_forward.grid(row=1,column=2)\n",
    "    \n",
    "    status_label=Label(root,text='Image ' + str(image_number)+ ' of '+ str(len(image_list)),bd=1, relief=SUNKEN, anchor=E)\n",
    "    status_label.grid(row=2,column=0,columnspan=3,sticky=W+E)\n",
    "    \n",
    "my_label=Label(image=my_img1)\n",
    "my_label.grid(row=0,column=0,columnspan=3)\n",
    "button_back=Button(root,text='<<',state=DISABLED)\n",
    "button_exit=Button(root,text='EXIT PROGRAM',command=root.quit)\n",
    "button_forward=Button(root,text=\">>\",command=lambda: forward(2))\n",
    "button_back.grid(row=1,column=0)\n",
    "button_exit.grid(row=1,column=1)\n",
    "button_forward.grid(row=1,column=2,pady=10)\n",
    "status_label.grid(row=2,column=0,columnspan=3,sticky=W+E)\n",
    "root.mainloop()"
   ]
  },
  {
   "cell_type": "code",
   "execution_count": null,
   "metadata": {},
   "outputs": [],
   "source": []
  }
 ],
 "metadata": {
  "kernelspec": {
   "display_name": "Python 3",
   "language": "python",
   "name": "python3"
  },
  "language_info": {
   "codemirror_mode": {
    "name": "ipython",
    "version": 3
   },
   "file_extension": ".py",
   "mimetype": "text/x-python",
   "name": "python",
   "nbconvert_exporter": "python",
   "pygments_lexer": "ipython3",
   "version": "3.8.3"
  }
 },
 "nbformat": 4,
 "nbformat_minor": 4
}
