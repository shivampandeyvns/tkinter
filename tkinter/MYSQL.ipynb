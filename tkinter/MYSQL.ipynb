{
 "cells": [
  {
   "cell_type": "code",
   "execution_count": 13,
   "metadata": {},
   "outputs": [],
   "source": [
    "import mysql.connector\n",
    "my_databae=mysql.connector.connect(\n",
    "    host=\"localhost\",\n",
    "    user=\"root\",\n",
    "    passwd=\"Shivam@123\",\n",
    "    database=\"testdb\"\n",
    ")\n",
    "my_cursor=my_databae.cursor()\n",
    "my_cursor.execute(\"CREATE TABLE users (name VARCHAR(255),email VARCHAR(255),age INTEGER(10), user_id INTEGER AUTO_INCREMENT PRIMARY KEY)\")\n",
    "#my_cursor.execute(\"SHOW TABLES\")\n",
    "sqlstuff=\"INSERT INTO users (name,email,age) VALUES (%s,%s,%s)\"\n",
    "record1=(\"SHIVAM\",\"shivampandeyvns@gmail.com\",40)\n",
    "\n",
    "my_cursor.execute(sqlstuff,record1)\n",
    "my_databae.commit()\n",
    "    "
   ]
  },
  {
   "cell_type": "code",
   "execution_count": null,
   "metadata": {},
   "outputs": [],
   "source": []
  }
 ],
 "metadata": {
  "kernelspec": {
   "display_name": "Python 3",
   "language": "python",
   "name": "python3"
  },
  "language_info": {
   "codemirror_mode": {
    "name": "ipython",
    "version": 3
   },
   "file_extension": ".py",
   "mimetype": "text/x-python",
   "name": "python",
   "nbconvert_exporter": "python",
   "pygments_lexer": "ipython3",
   "version": "3.8.3"
  }
 },
 "nbformat": 4,
 "nbformat_minor": 4
}
