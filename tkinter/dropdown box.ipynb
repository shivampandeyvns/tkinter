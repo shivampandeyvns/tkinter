{
 "cells": [
  {
   "cell_type": "code",
   "execution_count": 1,
   "metadata": {},
   "outputs": [],
   "source": [
    "from tkinter import *"
   ]
  },
  {
   "cell_type": "code",
   "execution_count": 4,
   "metadata": {},
   "outputs": [],
   "source": [
    "root=Tk()\n",
    "options=[\"Monday\",\"Tuesday\",\"Wednesday\",\"Friday\",\"saturday\"]\n",
    "drop_down=StringVar()\n",
    "drop_down.set(\"Select A day\")\n",
    "drop=OptionMenu(root, drop_down, *options)\n",
    "drop.pack()\n",
    "def show():\n",
    "    myLabel=Label(root,text=\"Today is \"+clicked.get()).pack()\n",
    "myButton=Button(root,text=\"Show Selection\",command=show).pack()\n",
    "root.mainloop()"
   ]
  },
  {
   "cell_type": "code",
   "execution_count": 5,
   "metadata": {},
   "outputs": [],
   "source": [
    "root=Tk()\n",
    "drop_down=StringVar()\n",
    "drop=OptionMenu(root,drop_down,('Monday','Tuesday')).pack()\n",
    "root.mainloop()"
   ]
  },
  {
   "cell_type": "code",
   "execution_count": null,
   "metadata": {},
   "outputs": [],
   "source": []
  }
 ],
 "metadata": {
  "kernelspec": {
   "display_name": "Python 3",
   "language": "python",
   "name": "python3"
  },
  "language_info": {
   "codemirror_mode": {
    "name": "ipython",
    "version": 3
   },
   "file_extension": ".py",
   "mimetype": "text/x-python",
   "name": "python",
   "nbconvert_exporter": "python",
   "pygments_lexer": "ipython3",
   "version": "3.8.3"
  }
 },
 "nbformat": 4,
 "nbformat_minor": 4
}
