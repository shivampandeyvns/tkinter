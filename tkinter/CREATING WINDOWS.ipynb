{
 "cells": [
  {
   "cell_type": "code",
   "execution_count": 5,
   "metadata": {},
   "outputs": [],
   "source": [
    "from tkinter import*\n",
    "from PIL import ImageTk,Image"
   ]
  },
  {
   "cell_type": "code",
   "execution_count": 11,
   "metadata": {},
   "outputs": [],
   "source": [
    "#opening a window using a button\n",
    "root=Tk()\n",
    "root.title('Window 1')\n",
    "my_img1=ImageTk.PhotoImage(Image.open('icons8-itachi-uchiha-48.png'))\n",
    "lbl1=Label(root,image=my_img1).pack()\n",
    "top = Toplevel()\n",
    "top.title(\"window 2\")\n",
    "my_img=ImageTk.PhotoImage(Image.open('maxresdefault.jpg'))\n",
    "lbl=Label(top, image=my_img).pack()  \n",
    "root.mainloop()"
   ]
  },
  {
   "cell_type": "code",
   "execution_count": 16,
   "metadata": {},
   "outputs": [],
   "source": [
    "#closing a window\n",
    "root=Tk()\n",
    "root.title('Window 1')\n",
    "my_img1=ImageTk.PhotoImage(Image.open('icons8-itachi-uchiha-48.png'))\n",
    "def open():\n",
    "    global my_img\n",
    "    top = Toplevel()\n",
    "    top.title(\"window 2\")\n",
    "    my_img=ImageTk.PhotoImage(Image.open('maxresdefault.jpg'))\n",
    "    lbl=Label(top, image=my_img).pack()\n",
    "    btn2=Button(top,text='Close window 2',command=top.destroy).pack()\n",
    "btn=Button(root,text='open 2nd window',command=open).pack()\n",
    "root.mainloop()"
   ]
  },
  {
   "cell_type": "code",
   "execution_count": null,
   "metadata": {},
   "outputs": [],
   "source": []
  }
 ],
 "metadata": {
  "kernelspec": {
   "display_name": "Python 3",
   "language": "python",
   "name": "python3"
  },
  "language_info": {
   "codemirror_mode": {
    "name": "ipython",
    "version": 3
   },
   "file_extension": ".py",
   "mimetype": "text/x-python",
   "name": "python",
   "nbconvert_exporter": "python",
   "pygments_lexer": "ipython3",
   "version": "3.8.3"
  }
 },
 "nbformat": 4,
 "nbformat_minor": 4
}
