{
 "cells": [
  {
   "cell_type": "code",
   "execution_count": 1,
   "metadata": {},
   "outputs": [],
   "source": [
    "from tkinter import *\n",
    "from PIL import ImageTk,Image\n",
    "import sqlite3"
   ]
  },
  {
   "cell_type": "code",
   "execution_count": 2,
   "metadata": {},
   "outputs": [],
   "source": [
    "root=Tk()\n",
    "root.geometry(\"400x400\")\n",
    "#creates a database or connect to one\n",
    "conn=sqlite3.connect('address_book.db')\n",
    "#making cursor which does all the work for us in the database\n",
    "c=conn.cursor()\n",
    "#create a table for the data to be organized\n",
    "c.execute(\"\"\"CREATE TABLE addresses(\n",
    "         first_name text,\n",
    "         last_name text,\n",
    "         adress text,\n",
    "         city text,\n",
    "         state text,\n",
    "         zipcode integer\n",
    "         )\"\"\")\n",
    "#when we change something in the database we want to commit to that changes or make that change permanently \n",
    "conn.commit()\n",
    "#when we are done changing we want the connection to our database to close\n",
    "conn.close()\n",
    "\n",
    "root.mainloop()"
   ]
  },
  {
   "cell_type": "code",
   "execution_count": 3,
   "metadata": {},
   "outputs": [],
   "source": [
    "#sqlite has 5 datatypes->\n",
    "#1)text\n",
    "#2)integer\n",
    "#3)real->decimal\n",
    "#4)NULL\n",
    "#4)blob->image and video types"
   ]
  },
  {
   "cell_type": "code",
   "execution_count": null,
   "metadata": {},
   "outputs": [],
   "source": []
  }
 ],
 "metadata": {
  "kernelspec": {
   "display_name": "Python 3",
   "language": "python",
   "name": "python3"
  },
  "language_info": {
   "codemirror_mode": {
    "name": "ipython",
    "version": 3
   },
   "file_extension": ".py",
   "mimetype": "text/x-python",
   "name": "python",
   "nbconvert_exporter": "python",
   "pygments_lexer": "ipython3",
   "version": "3.8.3"
  }
 },
 "nbformat": 4,
 "nbformat_minor": 4
}
