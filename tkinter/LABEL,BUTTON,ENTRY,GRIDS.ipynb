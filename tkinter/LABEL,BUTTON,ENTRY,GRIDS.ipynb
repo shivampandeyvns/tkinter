{
 "cells": [
  {
   "cell_type": "code",
   "execution_count": 16,
   "metadata": {},
   "outputs": [],
   "source": [
    "from tkinter import *"
   ]
  },
  {
   "cell_type": "code",
   "execution_count": 17,
   "metadata": {},
   "outputs": [],
   "source": [
    "#this is the root window\n",
    "#this is the first step while working with tkinter\n",
    "#this just binds all the widgets in one window\n",
    "root =Tk()"
   ]
  },
  {
   "cell_type": "markdown",
   "metadata": {},
   "source": [
    "In tkinter we follow a two step process to create anything\n",
    "1)We create that thing\n",
    "2)We put it on the screen"
   ]
  },
  {
   "cell_type": "code",
   "execution_count": 18,
   "metadata": {},
   "outputs": [],
   "source": [
    "#Step 1\n",
    "#the root is included in this\n",
    "myLabel=Label(root, text='Hello World')"
   ]
  },
  {
   "cell_type": "code",
   "execution_count": 19,
   "metadata": {},
   "outputs": [],
   "source": [
    "#step 2\n",
    "#we pack the widget with the root\n",
    "myLabel.pack()"
   ]
  },
  {
   "cell_type": "code",
   "execution_count": 20,
   "metadata": {},
   "outputs": [],
   "source": [
    "#here we define a loop which displays the widget\n",
    "root.mainloop()"
   ]
  },
  {
   "cell_type": "markdown",
   "metadata": {},
   "source": [
    "# positioning with grid system"
   ]
  },
  {
   "cell_type": "code",
   "execution_count": 24,
   "metadata": {},
   "outputs": [],
   "source": [
    "root =Tk()\n",
    "myLabel1=Label(root, text='Hello World')\n",
    "myLable2=Label(root, text='My Name is Shivam')"
   ]
  },
  {
   "cell_type": "code",
   "execution_count": 25,
   "metadata": {},
   "outputs": [],
   "source": [
    "#this is used to position the labels in the root window\n",
    "#if there is blank column in the middle of the labels then tkinter ignores it\n",
    "myLabel1.grid(row=0, column=0)\n",
    "myLable2.grid(row=0,column=1)"
   ]
  },
  {
   "cell_type": "code",
   "execution_count": 26,
   "metadata": {},
   "outputs": [],
   "source": [
    "root.mainloop()"
   ]
  },
  {
   "cell_type": "code",
   "execution_count": 27,
   "metadata": {},
   "outputs": [],
   "source": [
    "#we can just do the grid process in one step\n",
    "root =Tk()\n",
    "myLabel1=Label(root, text='Hello World').grid(row=0,column=0)\n",
    "myLable2=Label(root, text='My Name is Shivam').grid(row=0,column=1)"
   ]
  },
  {
   "cell_type": "markdown",
   "metadata": {},
   "source": [
    "#  creating button"
   ]
  },
  {
   "cell_type": "code",
   "execution_count": 36,
   "metadata": {},
   "outputs": [],
   "source": [
    "root=Tk()"
   ]
  },
  {
   "cell_type": "code",
   "execution_count": 30,
   "metadata": {},
   "outputs": [],
   "source": [
    "myButton=Button(root, text='click me!!!')"
   ]
  },
  {
   "cell_type": "code",
   "execution_count": 31,
   "metadata": {},
   "outputs": [],
   "source": [
    "myButton.pack()"
   ]
  },
  {
   "cell_type": "code",
   "execution_count": 32,
   "metadata": {},
   "outputs": [],
   "source": [
    "root.mainloop()"
   ]
  },
  {
   "cell_type": "code",
   "execution_count": 38,
   "metadata": {},
   "outputs": [],
   "source": [
    "#this just disables the byttton form being clicked\n",
    "myButton=Button(root, text='click me!!!',state=DISABLED)\n",
    "myButton.pack()\n",
    "root.mainloop()"
   ]
  },
  {
   "cell_type": "code",
   "execution_count": 40,
   "metadata": {},
   "outputs": [],
   "source": [
    "#resizing our button\n",
    "root=Tk()\n",
    "myButton=Button(root, text='click me!!!',padx=50,pady=60)\n",
    "myButton.pack()\n",
    "root.mainloop()"
   ]
  },
  {
   "cell_type": "code",
   "execution_count": 41,
   "metadata": {},
   "outputs": [],
   "source": [
    "#adding functionality in a button"
   ]
  },
  {
   "cell_type": "code",
   "execution_count": 42,
   "metadata": {},
   "outputs": [],
   "source": [
    "root=Tk()\n",
    "def myClick():\n",
    "    myLabel=Label(root, text='Look! I clicked the button!!')\n",
    "    myLabel.pack()\n",
    "myButton=Button(root, text='click me!!!',command=myClick)\n",
    "myButton.pack()\n",
    "root.mainloop()    "
   ]
  },
  {
   "cell_type": "code",
   "execution_count": 44,
   "metadata": {},
   "outputs": [],
   "source": [
    "#changing color\n",
    "root=Tk()\n",
    "myButton=Button(root, text='click me!!!',padx=50,pady=60,fg='blue',bg='red')\n",
    "myButton.pack()\n",
    "root.mainloop()"
   ]
  },
  {
   "cell_type": "markdown",
   "metadata": {},
   "source": [
    "# USING INPUT BOXES"
   ]
  },
  {
   "cell_type": "code",
   "execution_count": 45,
   "metadata": {},
   "outputs": [],
   "source": [
    "root=Tk()"
   ]
  },
  {
   "cell_type": "code",
   "execution_count": 46,
   "metadata": {},
   "outputs": [],
   "source": [
    "e=Entry(root)\n",
    "e.pack()\n",
    "root.mainloop()"
   ]
  },
  {
   "cell_type": "code",
   "execution_count": 50,
   "metadata": {},
   "outputs": [],
   "source": [
    "root=Tk()\n",
    "def myClick():\n",
    "    hello='HELLO'+e.get()\n",
    "    myLabel=Label(root, text=hello)\n",
    "    myLabel.pack()\n",
    "e=Entry(root,width=50,fg='blue',bg='red',borderwidth=5)\n",
    "e.insert(0,\"Enter Your Name\")\n",
    "e.pack()\n",
    "myButton=Button(root, text='CLICK ME!!',command=myClick)\n",
    "myButton.pack()\n",
    "root.mainloop()"
   ]
  },
  {
   "cell_type": "code",
   "execution_count": null,
   "metadata": {},
   "outputs": [],
   "source": []
  },
  {
   "cell_type": "code",
   "execution_count": null,
   "metadata": {},
   "outputs": [],
   "source": []
  }
 ],
 "metadata": {
  "kernelspec": {
   "display_name": "Python 3",
   "language": "python",
   "name": "python3"
  },
  "language_info": {
   "codemirror_mode": {
    "name": "ipython",
    "version": 3
   },
   "file_extension": ".py",
   "mimetype": "text/x-python",
   "name": "python",
   "nbconvert_exporter": "python",
   "pygments_lexer": "ipython3",
   "version": "3.8.3"
  }
 },
 "nbformat": 4,
 "nbformat_minor": 4
}
