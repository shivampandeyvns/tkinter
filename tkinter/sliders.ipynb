{
 "cells": [
  {
   "cell_type": "code",
   "execution_count": 1,
   "metadata": {},
   "outputs": [],
   "source": [
    "from tkinter import *\n",
    "from PIL import ImageTk,Image"
   ]
  },
  {
   "cell_type": "code",
   "execution_count": 6,
   "metadata": {},
   "outputs": [],
   "source": [
    "root=Tk()\n",
    "root.geometry(\"500x500\")\n",
    "vertical=Scale(root,from_=0, to=200)\n",
    "vertical.pack()\n",
    "horizontal=Scale(root,from_=50, to=10,orient=HORIZONTAL)\n",
    "horizontal.pack()\n",
    "def slide():\n",
    "    h_label=Label(root,text=horizontal.get()).pack()\n",
    "my_button=Button(root,text=\"set\",command=slide).pack()\n",
    "root.mainloop()"
   ]
  },
  {
   "cell_type": "code",
   "execution_count": 7,
   "metadata": {},
   "outputs": [],
   "source": [
    "root=Tk()\n",
    "root.geometry(\"500x500\")\n",
    "vertical=Scale(root,from_=0, to=200)\n",
    "vertical.pack()\n",
    "horizontal=Scale(root,from_=50, to=10,orient=HORIZONTAL)\n",
    "horizontal.pack()\n",
    "def slide():\n",
    "    h_label=Label(root,text=horizontal.get()).pack()\n",
    "    v_label=Label(root,text=vertical.get()).pack()\n",
    "    root.geometry(str(horizontal.get())+\"x\"+str(vertical.get()))\n",
    "my_button=Button(root,text=\"set\",command=slide).pack()\n",
    "root.mainloop()"
   ]
  },
  {
   "cell_type": "code",
   "execution_count": 19,
   "metadata": {},
   "outputs": [],
   "source": [
    "root=Tk()\n",
    "root.geometry(\"500x500\")\n",
    "def slide(var):\n",
    "    global vertical,horizontal\n",
    "    #h_label=Label(root,text=horizontal.get()).pack()\n",
    "    #v_label=Label(root,text=vertical.get()).pack()\n",
    "    root.geometry(str(horizontal.get())+\"x\"+str(vertical.get()))\n",
    "vertical=Scale(root,from_=100, to=200,command=slide)\n",
    "vertical.pack()\n",
    "horizontal=Scale(root,from_=100, to=1000,orient=HORIZONTAL,command=slide)\n",
    "horizontal.pack()\n",
    "root.mainloop()"
   ]
  },
  {
   "cell_type": "code",
   "execution_count": null,
   "metadata": {},
   "outputs": [],
   "source": []
  }
 ],
 "metadata": {
  "kernelspec": {
   "display_name": "Python 3",
   "language": "python",
   "name": "python3"
  },
  "language_info": {
   "codemirror_mode": {
    "name": "ipython",
    "version": 3
   },
   "file_extension": ".py",
   "mimetype": "text/x-python",
   "name": "python",
   "nbconvert_exporter": "python",
   "pygments_lexer": "ipython3",
   "version": "3.8.3"
  }
 },
 "nbformat": 4,
 "nbformat_minor": 4
}
