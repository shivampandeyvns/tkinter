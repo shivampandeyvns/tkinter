{
 "cells": [
  {
   "cell_type": "code",
   "execution_count": 2,
   "metadata": {},
   "outputs": [],
   "source": [
    "from tkinter import*\n",
    "root=Tk()\n",
    "root.geometry('400x200')\n",
    "\n",
    "#creating a spinbox\n",
    "salary_spinbox=Spinbox(root,from_=0, to=30, increment=2,font=(\"Helvetica\",20)).pack()\n",
    "\n",
    "root.mainloop()"
   ]
  },
  {
   "cell_type": "code",
   "execution_count": 4,
   "metadata": {},
   "outputs": [],
   "source": [
    "from tkinter import*\n",
    "root=Tk()\n",
    "root.geometry('400x200')\n",
    "\n",
    "#creating a spinbox of our own values of tuples \n",
    "salary_spinbox=Spinbox(root,values=('a','b','c','d'),font=(\"Helvetica\",20)).pack()\n",
    "\n",
    "root.mainloop()"
   ]
  },
  {
   "cell_type": "code",
   "execution_count": 12,
   "metadata": {},
   "outputs": [],
   "source": [
    "from tkinter import*\n",
    "root=Tk()\n",
    "root.geometry('400x200')\n",
    "\n",
    "def grab():\n",
    "    my_label.config(text=salary_spinbox.get())\n",
    "#creating a spinbox of our own values of tuples \n",
    "salary_spinbox=Spinbox(root,values=('a','b','c','d'),font=(\"Helvetica\",20))\n",
    "salary_spinbox.pack(pady=20)\n",
    "\n",
    "my_button=Button(root,text=\"submit\",command=grab)\n",
    "my_button.pack(pady=20)\n",
    "\n",
    "my_label=Label(root,text='')\n",
    "my_label.pack(pady=20)\n",
    "\n",
    "root.mainloop()"
   ]
  },
  {
   "cell_type": "code",
   "execution_count": null,
   "metadata": {},
   "outputs": [],
   "source": []
  }
 ],
 "metadata": {
  "kernelspec": {
   "display_name": "Python 3",
   "language": "python",
   "name": "python3"
  },
  "language_info": {
   "codemirror_mode": {
    "name": "ipython",
    "version": 3
   },
   "file_extension": ".py",
   "mimetype": "text/x-python",
   "name": "python",
   "nbconvert_exporter": "python",
   "pygments_lexer": "ipython3",
   "version": "3.8.3"
  }
 },
 "nbformat": 4,
 "nbformat_minor": 4
}
