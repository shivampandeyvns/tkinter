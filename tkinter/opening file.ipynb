{
 "cells": [
  {
   "cell_type": "code",
   "execution_count": 2,
   "metadata": {},
   "outputs": [],
   "source": [
    "from tkinter import *\n",
    "from PIL import ImageTk,Image\n",
    "from tkinter import filedialog"
   ]
  },
  {
   "cell_type": "code",
   "execution_count": 3,
   "metadata": {},
   "outputs": [],
   "source": [
    "root=Tk()\n",
    "root.filename=filedialog.askopenfilename(initialdir=\"/Users/91902/Desktop/tkinter/\", title='Select a file',filetypes=((\"png files\",\"*.png\"),(\"all files\",\"*.*\"),(\"jpeg files\",\"*.jpeg\")))\n",
    "my_img=ImageTk.PhotoImage(Image.open(root.filename))\n",
    "my_label=Label(root,text=root.filename).pack()\n",
    "my_image_label=Label(image=my_img).pack()\n",
    "root.mainloop()"
   ]
  },
  {
   "cell_type": "code",
   "execution_count": null,
   "metadata": {},
   "outputs": [],
   "source": [
    "#using a button to trigger dialogBox\n",
    "root=Tk()\n",
    "def open_img():\n",
    "    global my_img\n",
    "    root.filename=filedialog.askopenfilename(initialdir=\"/Users/91902/Desktop/tkinter/\", title='Select a file',filetypes=((\"png files\",\"*.png\"),(\"all files\",\"*.*\"),(\"jpeg files\",\"*.jpeg\")))\n",
    "    my_label=Label(root,text=root.filename).pack()\n",
    "    my_img=ImageTk.PhotoImage(Image.open(root.filename))\n",
    "    my_image_label=Label(image=my_img).pack()\n",
    "my_button=Button(root,text='open the image',command=open_img).pack()\n",
    "root.mainloop()"
   ]
  }
 ],
 "metadata": {
  "kernelspec": {
   "display_name": "Python 3",
   "language": "python",
   "name": "python3"
  },
  "language_info": {
   "codemirror_mode": {
    "name": "ipython",
    "version": 3
   },
   "file_extension": ".py",
   "mimetype": "text/x-python",
   "name": "python",
   "nbconvert_exporter": "python",
   "pygments_lexer": "ipython3",
   "version": "3.8.3"
  }
 },
 "nbformat": 4,
 "nbformat_minor": 4
}
