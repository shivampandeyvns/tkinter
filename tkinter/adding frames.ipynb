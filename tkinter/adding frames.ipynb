{
 "cells": [
  {
   "cell_type": "code",
   "execution_count": 2,
   "metadata": {},
   "outputs": [],
   "source": [
    "from tkinter import*"
   ]
  },
  {
   "cell_type": "code",
   "execution_count": 3,
   "metadata": {},
   "outputs": [],
   "source": [
    "from PIL import ImageTk,Image"
   ]
  },
  {
   "cell_type": "code",
   "execution_count": 9,
   "metadata": {},
   "outputs": [],
   "source": [
    "root=Tk()\n",
    "frame=LabelFrame(root,text='This is my frame',padx=5,pady=50)\n",
    "frame.pack(padx=100,pady=100)\n",
    "frame2=LabelFrame(root,text='this is 2nd frame').pack()\n",
    "b=Button(frame,text=\"Don't click her\",command=root.destroy)\n",
    "b.pack()\n",
    "root.mainloop()"
   ]
  },
  {
   "cell_type": "code",
   "execution_count": 6,
   "metadata": {},
   "outputs": [],
   "source": [
    "root=Tk()\n",
    "frame=LabelFrame(root,text='This is my frame',padx=50,pady=50)\n",
    "frame.pack(padx=100,pady=100)\n",
    "b=Button(frame,text=\"Don't click here\")\n",
    "b2=Button(frame,text=\"hello\")\n",
    "b.grid(row=0,column=0)\n",
    "b2.grid(row=1,column=1)\n",
    "root.mainloop()"
   ]
  },
  {
   "cell_type": "code",
   "execution_count": null,
   "metadata": {},
   "outputs": [],
   "source": []
  }
 ],
 "metadata": {
  "kernelspec": {
   "display_name": "Python 3",
   "language": "python",
   "name": "python3"
  },
  "language_info": {
   "codemirror_mode": {
    "name": "ipython",
    "version": 3
   },
   "file_extension": ".py",
   "mimetype": "text/x-python",
   "name": "python",
   "nbconvert_exporter": "python",
   "pygments_lexer": "ipython3",
   "version": "3.8.3"
  }
 },
 "nbformat": 4,
 "nbformat_minor": 4
}
