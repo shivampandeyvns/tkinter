{
 "cells": [
  {
   "cell_type": "code",
   "execution_count": 3,
   "metadata": {},
   "outputs": [],
   "source": [
    "from tkinter import*"
   ]
  },
  {
   "cell_type": "code",
   "execution_count": 25,
   "metadata": {},
   "outputs": [],
   "source": [
    "root=Tk()\n",
    "root.geometry('400x200')\n",
    "#creating labels\n",
    "emp_id_label=Label(root,text='Empdid')\n",
    "emp_name_label=Label(root,text='Employee Name: ')\n",
    "job_label=Label(root,text='Job')\n",
    "emp_type_label=Label(root,text='Employee Type')\n",
    "salary_label=Label(root,text='Salary')\n",
    "\n",
    "#creating entry\n",
    "emp_id_entry=Entry(root,width=30)\n",
    "emp_name_entry=Entry(root,width=30)\n",
    "job_entry=Entry(root,width=30)\n",
    "\n",
    "#creating a spinbox\n",
    "var = StringVar(root)\n",
    "var.set(\"19\")\n",
    "salary_spinbox=Spinbox(root,from_=0, to=30, increment=2,textvariable=var)\n",
    "\n",
    "#creating radio buttons\n",
    "r=IntVar()\n",
    "r.set(\"2\")\n",
    "Radiobutton(root,text='Regular',variable=r,value=1).grid(row=3,column=1)\n",
    "Radiobutton(root,text='Temporary',variable=r,value=2).grid(row=3,column=2)\n",
    "\n",
    "#creating buttons\n",
    "insert_button=Button(root,text='Insert')\n",
    "update_button=Button(root,text='Update')\n",
    "delete_button=Button(root,text='Delete')\n",
    "select_button=Button(root,text='Select')\n",
    "\n",
    "#grid labels\n",
    "emp_id_label.grid(row=0,column=0)\n",
    "emp_name_label.grid(row=1,column=0)\n",
    "job_label.grid(row=2,column=0)\n",
    "emp_type_label.grid(row=3,column=0)\n",
    "salary_label.grid(row=4,column=0)\n",
    "\n",
    "#grid entry\n",
    "emp_id_entry.grid(row=0,column=1)\n",
    "emp_name_entry.grid(row=1,column=1)\n",
    "job_entry.grid(row=2,column=1)\n",
    "\n",
    "#grid buttons\n",
    "insert_button.grid(row=5,column=0)\n",
    "update_button.grid(row=5,column=1)\n",
    "delete_button.grid(row=6,column=0)\n",
    "select_button.grid(row=6,column=1)\n",
    "\n",
    "#grid spinbox\n",
    "salary_spinbox.grid(row=4,column=1)\n",
    "\n",
    "root.mainloop()"
   ]
  },
  {
   "cell_type": "code",
   "execution_count": null,
   "metadata": {},
   "outputs": [],
   "source": []
  },
  {
   "cell_type": "code",
   "execution_count": null,
   "metadata": {},
   "outputs": [],
   "source": []
  }
 ],
 "metadata": {
  "kernelspec": {
   "display_name": "Python 3",
   "language": "python",
   "name": "python3"
  },
  "language_info": {
   "codemirror_mode": {
    "name": "ipython",
    "version": 3
   },
   "file_extension": ".py",
   "mimetype": "text/x-python",
   "name": "python",
   "nbconvert_exporter": "python",
   "pygments_lexer": "ipython3",
   "version": "3.8.3"
  }
 },
 "nbformat": 4,
 "nbformat_minor": 4
}
