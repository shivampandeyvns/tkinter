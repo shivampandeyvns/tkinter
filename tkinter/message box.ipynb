{
 "cells": [
  {
   "cell_type": "code",
   "execution_count": 1,
   "metadata": {},
   "outputs": [],
   "source": [
    "from tkinter import *"
   ]
  },
  {
   "cell_type": "code",
   "execution_count": 2,
   "metadata": {},
   "outputs": [],
   "source": [
    "from tkinter import messagebox"
   ]
  },
  {
   "cell_type": "code",
   "execution_count": 5,
   "metadata": {},
   "outputs": [],
   "source": [
    "#showinfo message box\n",
    "root=Tk()\n",
    "def popup():\n",
    "    messagebox.showinfo(\"This is my popup\",\"Hello World\")\n",
    "Button(root,text=\"popup\",command=popup).pack()\n",
    "root.mainloop()"
   ]
  },
  {
   "cell_type": "code",
   "execution_count": 7,
   "metadata": {},
   "outputs": [],
   "source": [
    "#show-warning message box\n",
    "root=Tk()\n",
    "def popup():\n",
    "    messagebox.showwarning(\"This is my popup\",\"Acess Denied\")\n",
    "Button(root,text=\"popup\",command=popup).pack()\n",
    "root.mainloop()"
   ]
  },
  {
   "cell_type": "code",
   "execution_count": 9,
   "metadata": {},
   "outputs": [],
   "source": [
    "#show error message box\n",
    "root=Tk()\n",
    "def popup():\n",
    "    messagebox.showerror(\"This is my popup\",\"Acess Denied\")\n",
    "Button(root,text=\"popup\",command=popup).pack()\n",
    "root.mainloop()"
   ]
  },
  {
   "cell_type": "code",
   "execution_count": 11,
   "metadata": {},
   "outputs": [],
   "source": [
    "#ask question message box\n",
    "root=Tk()\n",
    "def popup():\n",
    "    messagebox.askquestion(\"This is my popup\",\"Do you want to exit?\")\n",
    "Button(root,text=\"popup\",command=popup).pack()\n",
    "root.mainloop()"
   ]
  },
  {
   "cell_type": "code",
   "execution_count": 12,
   "metadata": {},
   "outputs": [],
   "source": [
    "#ask question message box\n",
    "root=Tk()\n",
    "def popup():\n",
    "    messagebox.askokcancel(\"This is my popup\",\"Do you want to exit?\")\n",
    "Button(root,text=\"popup\",command=popup).pack()\n",
    "root.mainloop()"
   ]
  },
  {
   "cell_type": "code",
   "execution_count": 15,
   "metadata": {},
   "outputs": [],
   "source": [
    "#ask question message box\n",
    "root=Tk()\n",
    "def popup():\n",
    "    response=messagebox.askyesno(\"This is my popup\",\"Do you want to exit?\")\n",
    "    Label(root, text=response).pack()\n",
    "Button(root,text=\"popup\",command=popup).pack()\n",
    "root.mainloop()"
   ]
  },
  {
   "cell_type": "code",
   "execution_count": 17,
   "metadata": {},
   "outputs": [],
   "source": [
    "#ask question message box\n",
    "root=Tk()\n",
    "def popup():\n",
    "    response=messagebox.askyesno(\"This is my popup\",\"Do you want to exit?\")\n",
    "    if(response==1):\n",
    "        root.destroy()\n",
    "    else:\n",
    "        pass\n",
    "Button(root,text=\"popup\",command=popup).pack()\n",
    "root.mainloop()"
   ]
  },
  {
   "cell_type": "code",
   "execution_count": 19,
   "metadata": {},
   "outputs": [],
   "source": [
    "#ask question message box\n",
    "root=Tk()\n",
    "def popup():\n",
    "    response=messagebox.askokcancel(\"This is my popup\",\"Do you want to exit?\")\n",
    "    if(response==1):\n",
    "        root.destroy()\n",
    "    else:\n",
    "        pass\n",
    "Button(root,text=\"popup\",command=popup).pack()\n",
    "root.mainloop()"
   ]
  },
  {
   "cell_type": "code",
   "execution_count": 24,
   "metadata": {},
   "outputs": [],
   "source": [
    "#ask question message box\n",
    "root=Tk()\n",
    "def popup():\n",
    "    response=messagebox.askquestion(\"This is my popup\",\"Do you want to exit?\")\n",
    "    if(response==\"yes\"):\n",
    "        root.destroy()\n",
    "    else:\n",
    "        pass\n",
    "Button(root,text=\"popup\",command=popup).pack()\n",
    "root.mainloop()"
   ]
  },
  {
   "cell_type": "code",
   "execution_count": 26,
   "metadata": {},
   "outputs": [],
   "source": [
    "#ask question message box\n",
    "root=Tk()\n",
    "def popup():\n",
    "    response=messagebox.showerror(\"This is my popup\",\"Error found\")\n",
    "    if(response==\"ok\"):\n",
    "        Label(root, text=\"Error Encountered\").pack()\n",
    "Button(root,text=\"popup\",command=popup).pack()\n",
    "root.mainloop()"
   ]
  },
  {
   "cell_type": "code",
   "execution_count": 27,
   "metadata": {},
   "outputs": [],
   "source": [
    "#ask question message box\n",
    "root=Tk()\n",
    "def popup():\n",
    "    response=messagebox.showwarning(\"This is my popup\",\"Warning!!!\")\n",
    "    if(response==\"ok\"):\n",
    "        Label(root, text=\"Warning!!\").pack()\n",
    "Button(root,text=\"popup\",command=popup).pack()\n",
    "root.mainloop()"
   ]
  },
  {
   "cell_type": "code",
   "execution_count": 30,
   "metadata": {},
   "outputs": [],
   "source": [
    "root=Tk()\n",
    "def popup():\n",
    "    response=messagebox.showinfo(\"This is my popup\",\"Warning!!!\")\n",
    "    if(response==\"ok\"):\n",
    "        Label(root, text=\"Info Shown\").pack()\n",
    "Button(root,text=\"popup\",command=popup).pack()\n",
    "root.mainloop()"
   ]
  },
  {
   "cell_type": "code",
   "execution_count": null,
   "metadata": {},
   "outputs": [],
   "source": []
  }
 ],
 "metadata": {
  "kernelspec": {
   "display_name": "Python 3",
   "language": "python",
   "name": "python3"
  },
  "language_info": {
   "codemirror_mode": {
    "name": "ipython",
    "version": 3
   },
   "file_extension": ".py",
   "mimetype": "text/x-python",
   "name": "python",
   "nbconvert_exporter": "python",
   "pygments_lexer": "ipython3",
   "version": "3.8.3"
  }
 },
 "nbformat": 4,
 "nbformat_minor": 4
}
