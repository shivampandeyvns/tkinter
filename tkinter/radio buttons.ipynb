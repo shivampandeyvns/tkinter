{
 "cells": [
  {
   "cell_type": "code",
   "execution_count": 1,
   "metadata": {},
   "outputs": [],
   "source": [
    "from tkinter import*"
   ]
  },
  {
   "cell_type": "code",
   "execution_count": 2,
   "metadata": {},
   "outputs": [],
   "source": [
    "from PIL import ImageTk,Image"
   ]
  },
  {
   "cell_type": "code",
   "execution_count": 3,
   "metadata": {},
   "outputs": [],
   "source": [
    "root=Tk()\n",
    "r=IntVar()\n",
    "r.set(\"2\")\n",
    "def clicked(value):\n",
    "    global myLabel\n",
    "    myLabel.forget()\n",
    "    myLabel = Label(root,text=value)\n",
    "    myLabel.pack()\n",
    "    \n",
    "Radiobutton(root, text='Option 1',variable=r, value=1,command=lambda: clicked(r.get())).pack()\n",
    "Radiobutton(root, text='Option 1',variable=r, value=2,command=lambda: clicked(r.get())).pack()\n",
    "myLabel = Label(root,text=r.get())\n",
    "myLabel.pack()\n",
    "root.mainloop()\n"
   ]
  },
  {
   "cell_type": "code",
   "execution_count": 5,
   "metadata": {},
   "outputs": [],
   "source": [
    "root=Tk()\n",
    "TOPPINGS=[\n",
    "    (\"Pepperoni\",\"Pepperoni\"),\n",
    "    (\"Cheese\",\"Cheese\"),\n",
    "    (\"Mushroom\",\"Mushroom\"),\n",
    "    (\"Onion\",\"Onion\")]\n",
    "pizza= StringVar()\n",
    "pizza.set(\"Pepperoni\")\n",
    "def clicked(value):\n",
    "    #global myLabel\n",
    "    #myLabel.forget()\n",
    "    myLabel = Label(root,text=value)\n",
    "    myLabel.pack()\n",
    "for text,topping in TOPPINGS:\n",
    "    Radiobutton(root,text=text,variable=pizza,value=topping).pack(anchor=W)\n",
    "button=Button(root,text=\"Select\",command=lambda: clicked(pizza.get())).pack()\n",
    "root.mainloop()"
   ]
  },
  {
   "cell_type": "code",
   "execution_count": null,
   "metadata": {},
   "outputs": [],
   "source": []
  }
 ],
 "metadata": {
  "kernelspec": {
   "display_name": "Python 3",
   "language": "python",
   "name": "python3"
  },
  "language_info": {
   "codemirror_mode": {
    "name": "ipython",
    "version": 3
   },
   "file_extension": ".py",
   "mimetype": "text/x-python",
   "name": "python",
   "nbconvert_exporter": "python",
   "pygments_lexer": "ipython3",
   "version": "3.8.3"
  }
 },
 "nbformat": 4,
 "nbformat_minor": 4
}
