{
 "cells": [
  {
   "cell_type": "code",
   "execution_count": 2,
   "metadata": {},
   "outputs": [],
   "source": [
    "from tkinter import*\n",
    "from tkinter import ttk\n",
    "import time"
   ]
  },
  {
   "cell_type": "code",
   "execution_count": 13,
   "metadata": {},
   "outputs": [],
   "source": [
    "root=Tk()\n",
    "def step():\n",
    "    #my_progress['value']+=20\n",
    "    #my_progress.start(10)\n",
    "    for x in range(5):\n",
    "        my_progress['value']+=20\n",
    "        root.update_idletasks()\n",
    "        time.sleep(1)\n",
    "def stop():\n",
    "    my_progress.stop()\n",
    "my_progress=ttk.Progressbar(root,orient=HORIZONTAL,length=300,mode='determinate')\n",
    "my_progress.pack(pady=20)\n",
    "my_button=Button(root,text='Progress',command=step)\n",
    "my_button.pack()\n",
    "my_button2=Button(root,text='stop',command=stop)\n",
    "my_button2.pack()\n",
    "root.mainloop()"
   ]
  },
  {
   "cell_type": "code",
   "execution_count": null,
   "metadata": {},
   "outputs": [],
   "source": []
  }
 ],
 "metadata": {
  "kernelspec": {
   "display_name": "Python 3",
   "language": "python",
   "name": "python3"
  },
  "language_info": {
   "codemirror_mode": {
    "name": "ipython",
    "version": 3
   },
   "file_extension": ".py",
   "mimetype": "text/x-python",
   "name": "python",
   "nbconvert_exporter": "python",
   "pygments_lexer": "ipython3",
   "version": "3.8.3"
  }
 },
 "nbformat": 4,
 "nbformat_minor": 4
}
